{
 "cells": [
  {
   "cell_type": "code",
   "execution_count": 1,
   "metadata": {},
   "outputs": [],
   "source": [
    "import pandas as pd\n",
    "import numpy as np\n",
    "from datetime import datetime\n",
    "import plotly.graph_objects as go\n",
    "import os\n",
    "\n",
    "import matplotlib.pyplot as plt"
   ]
  },
  {
   "cell_type": "code",
   "execution_count": 2,
   "metadata": {},
   "outputs": [
    {
     "data": {
      "text/plain": [
       "'c:\\\\Users\\\\adame\\\\OneDrive\\\\Bureau\\\\CODE\\\\CandleMagic'"
      ]
     },
     "execution_count": 2,
     "metadata": {},
     "output_type": "execute_result"
    }
   ],
   "source": [
    "os.getcwd()"
   ]
  },
  {
   "cell_type": "code",
   "execution_count": 3,
   "metadata": {},
   "outputs": [],
   "source": [
    "file = \"data\\\\EURUSD_M1_231201_231215.csv\"\n",
    "df = pd.read_csv(file, sep=\"\\t\")\n",
    "df['<DATETIME>'] = pd.to_datetime(df['<DATE>'] + ' ' + df['<TIME>'], format='%Y.%m.%d %H:%M:%S')\n",
    "df = df.drop(['<DATE>', '<TIME>', '<VOL>', '<SPREAD>' ], axis=1)\n",
    "df = df[['<DATETIME>'] + [col for col in df.columns if col != '<DATETIME>']]"
   ]
  },
  {
   "cell_type": "code",
   "execution_count": 4,
   "metadata": {},
   "outputs": [],
   "source": [
    "df['SMA'] = df['<CLOSE>'].rolling(window=10).mean()\n",
    "df['EMA'] = df['<CLOSE>'].ewm(span=10, adjust=False).mean()"
   ]
  },
  {
   "cell_type": "code",
   "execution_count": 5,
   "metadata": {},
   "outputs": [
    {
     "data": {
      "text/html": [
       "<div>\n",
       "<style scoped>\n",
       "    .dataframe tbody tr th:only-of-type {\n",
       "        vertical-align: middle;\n",
       "    }\n",
       "\n",
       "    .dataframe tbody tr th {\n",
       "        vertical-align: top;\n",
       "    }\n",
       "\n",
       "    .dataframe thead th {\n",
       "        text-align: right;\n",
       "    }\n",
       "</style>\n",
       "<table border=\"1\" class=\"dataframe\">\n",
       "  <thead>\n",
       "    <tr style=\"text-align: right;\">\n",
       "      <th></th>\n",
       "      <th>&lt;DATETIME&gt;</th>\n",
       "      <th>&lt;OPEN&gt;</th>\n",
       "      <th>&lt;HIGH&gt;</th>\n",
       "      <th>&lt;LOW&gt;</th>\n",
       "      <th>&lt;CLOSE&gt;</th>\n",
       "      <th>&lt;TICKVOL&gt;</th>\n",
       "      <th>SMA</th>\n",
       "      <th>EMA</th>\n",
       "    </tr>\n",
       "  </thead>\n",
       "  <tbody>\n",
       "    <tr>\n",
       "      <th>0</th>\n",
       "      <td>2023-12-01 00:00:00</td>\n",
       "      <td>1.08845</td>\n",
       "      <td>1.08845</td>\n",
       "      <td>1.08845</td>\n",
       "      <td>1.08845</td>\n",
       "      <td>1</td>\n",
       "      <td>NaN</td>\n",
       "      <td>1.088450</td>\n",
       "    </tr>\n",
       "    <tr>\n",
       "      <th>1</th>\n",
       "      <td>2023-12-01 00:01:00</td>\n",
       "      <td>1.08844</td>\n",
       "      <td>1.08877</td>\n",
       "      <td>1.08768</td>\n",
       "      <td>1.08808</td>\n",
       "      <td>11</td>\n",
       "      <td>NaN</td>\n",
       "      <td>1.088383</td>\n",
       "    </tr>\n",
       "    <tr>\n",
       "      <th>2</th>\n",
       "      <td>2023-12-01 00:02:00</td>\n",
       "      <td>1.08808</td>\n",
       "      <td>1.08821</td>\n",
       "      <td>1.08764</td>\n",
       "      <td>1.08820</td>\n",
       "      <td>24</td>\n",
       "      <td>NaN</td>\n",
       "      <td>1.088350</td>\n",
       "    </tr>\n",
       "    <tr>\n",
       "      <th>3</th>\n",
       "      <td>2023-12-01 00:03:00</td>\n",
       "      <td>1.08830</td>\n",
       "      <td>1.08830</td>\n",
       "      <td>1.08820</td>\n",
       "      <td>1.08820</td>\n",
       "      <td>2</td>\n",
       "      <td>NaN</td>\n",
       "      <td>1.088322</td>\n",
       "    </tr>\n",
       "    <tr>\n",
       "      <th>4</th>\n",
       "      <td>2023-12-01 00:04:00</td>\n",
       "      <td>1.08830</td>\n",
       "      <td>1.08835</td>\n",
       "      <td>1.08830</td>\n",
       "      <td>1.08835</td>\n",
       "      <td>2</td>\n",
       "      <td>NaN</td>\n",
       "      <td>1.088327</td>\n",
       "    </tr>\n",
       "  </tbody>\n",
       "</table>\n",
       "</div>"
      ],
      "text/plain": [
       "           <DATETIME>   <OPEN>   <HIGH>    <LOW>  <CLOSE>  <TICKVOL>  SMA  \\\n",
       "0 2023-12-01 00:00:00  1.08845  1.08845  1.08845  1.08845          1  NaN   \n",
       "1 2023-12-01 00:01:00  1.08844  1.08877  1.08768  1.08808         11  NaN   \n",
       "2 2023-12-01 00:02:00  1.08808  1.08821  1.08764  1.08820         24  NaN   \n",
       "3 2023-12-01 00:03:00  1.08830  1.08830  1.08820  1.08820          2  NaN   \n",
       "4 2023-12-01 00:04:00  1.08830  1.08835  1.08830  1.08835          2  NaN   \n",
       "\n",
       "        EMA  \n",
       "0  1.088450  \n",
       "1  1.088383  \n",
       "2  1.088350  \n",
       "3  1.088322  \n",
       "4  1.088327  "
      ]
     },
     "execution_count": 5,
     "metadata": {},
     "output_type": "execute_result"
    }
   ],
   "source": [
    "df.iloc[:5]"
   ]
  },
  {
   "cell_type": "code",
   "execution_count": 6,
   "metadata": {},
   "outputs": [
    {
     "data": {
      "text/plain": [
       "7"
      ]
     },
     "execution_count": 6,
     "metadata": {},
     "output_type": "execute_result"
    }
   ],
   "source": [
    "int(10*0.75)"
   ]
  },
  {
   "cell_type": "code",
   "execution_count": 7,
   "metadata": {},
   "outputs": [
    {
     "name": "stdout",
     "output_type": "stream",
     "text": [
      "     <CLOSE>       SMA  High_Highs  Higher_Lows  Slope_Positive  Uptrend\n",
      "0   1.046198       NaN       False        False           False    False\n",
      "1   1.126925       NaN        True        False           False    False\n",
      "2   1.654046       NaN        True        False           False    False\n",
      "3   1.990088       NaN        True        False           False    False\n",
      "4   2.614597       NaN        True        False           False    False\n",
      "..       ...       ...         ...          ...             ...      ...\n",
      "95  3.501917  3.926393        True        False           False    False\n",
      "96  5.047125  4.053630        True         True            True     True\n",
      "97  3.792714  4.050150       False        False           False    False\n",
      "98  5.324819  4.191888        True         True            True     True\n",
      "99  5.114512  4.223421       False         True            True    False\n",
      "\n",
      "[100 rows x 6 columns]\n"
     ]
    },
    {
     "data": {
      "image/png": "[encoded data removed]",
      "text/plain": [
       "<Figure size 1200x600 with 1 Axes>"
      ]
     },
     "metadata": {},
     "output_type": "display_data"
    }
   ],
   "source": [
    "def characterize_uptrend(data, window=10):\n",
    "    # Create a DataFrame with the time series data\n",
    "    df = pd.DataFrame(data, columns=['<CLOSE>'])\n",
    "\n",
    "    # Calculate Simple Moving Average (SMA) with a specified window\n",
    "    df['SMA'] = df['<CLOSE>'].rolling(window=window).mean()\n",
    "\n",
    "    # Identify higher highs and higher lows\n",
    "    df['High_Highs'] = df['<CLOSE>'] > df['<CLOSE>'].shift(1)\n",
    "    df['Higher_Lows'] = df['<CLOSE>'] > df['SMA']\n",
    "\n",
    "    # Check for a positive slope of the trendline\n",
    "    df['Slope_Positive'] = df['SMA'] > df['SMA'].shift(1)\n",
    "\n",
    "    # Combine conditions to identify uptrend\n",
    "    df['Uptrend'] = df['High_Highs'] & df['Higher_Lows'] & df['Slope_Positive']\n",
    "\n",
    "    return df\n",
    "\n",
    "def uptrend2(data, window = 10):\n",
    "    df = pd.DataFrame(data, columns=['<CLOSE>'])\n",
    "    \n",
    "\n",
    "# Generate sample time series data\n",
    "data = np.random.randn(100).cumsum()\n",
    "\n",
    "# Characterize uptrend\n",
    "result_df = characterize_uptrend(data)\n",
    "\n",
    "# Print the DataFrame to see the results\n",
    "print(result_df)\n",
    "\n",
    "# Plot the data along with SMA and highlight the uptrend\n",
    "plt.figure(figsize=(12, 6))\n",
    "plt.plot(result_df['<CLOSE>'], label='<CLOSE>')\n",
    "plt.plot(result_df['SMA'], label='SMA (10)')\n",
    "plt.scatter(result_df.index[result_df['Uptrend']], result_df['<CLOSE>'][result_df['Uptrend']], color='green', label='Uptrend')\n",
    "plt.legend()\n",
    "plt.title('Uptrend Characterization Example')\n",
    "plt.show()"
   ]
  },
  {
   "cell_type": "code",
   "execution_count": 8,
   "metadata": {},
   "outputs": [],
   "source": [
    "filter_condition = (df['<DATETIME>'] > datetime(2023, 12, 4, 0, 0, 0)) & (df['<DATETIME>'] < datetime(2023, 12, 5, 0, 0, 0))\n",
    "\n",
    "# Apply the filter to the DataFrame\n",
    "filtered_df = df[filter_condition]"
   ]
  },
  {
   "cell_type": "code",
   "execution_count": 9,
   "metadata": {},
   "outputs": [],
   "source": [
    "df1 = df[ (df[\"<DATETIME>\"] > datetime(2023, 12, 4, 0, 0, 0)) & (df[\"<DATETIME>\"] < datetime(2023, 12, 5, 0, 0, 0))]"
   ]
  },
  {
   "cell_type": "code",
   "execution_count": 10,
   "metadata": {},
   "outputs": [],
   "source": [
    "from main import Candle, Market\n",
    "\n",
    "m = Market(\".\\\\data\\\\EURUSD_M1_231201_231215.csv\")"
   ]
  },
  {
   "cell_type": "code",
   "execution_count": 11,
   "metadata": {},
   "outputs": [
    {
     "data": {
      "text/plain": [
       "0        False\n",
       "1        False\n",
       "2        False\n",
       "3        False\n",
       "4        False\n",
       "         ...  \n",
       "15517     True\n",
       "15518     True\n",
       "15519     True\n",
       "15520     True\n",
       "15521     True\n",
       "Name: <DATETIME>, Length: 15522, dtype: bool"
      ]
     },
     "execution_count": 11,
     "metadata": {},
     "output_type": "execute_result"
    }
   ],
   "source": [
    "m.data[\"<DATETIME>\"] > (datetime(2023, 12, 5, 9, 0, 0))"
   ]
  },
  {
   "cell_type": "code",
   "execution_count": 12,
   "metadata": {},
   "outputs": [
    {
     "data": {
      "text/plain": [
       "[3,\n",
       " 53,\n",
       " 54,\n",
       " 58,\n",
       " 63,\n",
       " 80,\n",
       " 85,\n",
       " 86,\n",
       " 97,\n",
       " 98,\n",
       " 112,\n",
       " 120,\n",
       " 121,\n",
       " 122,\n",
       " 124,\n",
       " 125,\n",
       " 129,\n",
       " 130,\n",
       " 143,\n",
       " 144]"
      ]
     },
     "execution_count": 12,
     "metadata": {},
     "output_type": "execute_result"
    }
   ],
   "source": [
    "m.fvg[\"bull\"][:20]"
   ]
  },
  {
   "cell_type": "code",
   "execution_count": 13,
   "metadata": {},
   "outputs": [
    {
     "name": "stdout",
     "output_type": "stream",
     "text": [
      "179\n"
     ]
    },
    {
     "data": {
      "application/vnd.plotly.v1+json": {
       "config": {
        "plotlyServerURL": "https://plot.ly"
       },
       "data": [
        {
         "close": [
          1.09079,
          1.09069,
          1.09084,
          1.0908,
          1.09079,
          1.0907,
          1.09067,
          1.09046,
          1.09058,
          1.09051,
          1.09054,
          1.09054,
          1.09065,
          1.09064,
          1.09078,
          1.09089,
          1.09096,
          1.09083,
          1.09098,
          1.09108,
          1.09089,
          1.09073,
          1.09073,
          1.09089,
          1.0908,
          1.09083,
          1.09081,
          1.09085,
          1.09085,
          1.09076,
          1.09075,
          1.09054,
          1.09059,
          1.0906,
          1.0906,
          1.09068,
          1.0909,
          1.091,
          1.09085,
          1.0909,
          1.09098,
          1.09089,
          1.0909,
          1.09095,
          1.09099,
          1.0909,
          1.09097,
          1.09104,
          1.09114,
          1.09098,
          1.09064,
          1.09034,
          1.09035,
          1.09005,
          1.0899,
          1.08995,
          1.08961,
          1.08963,
          1.08947,
          1.08952,
          1.08969,
          1.08953,
          1.08947,
          1.08979,
          1.08983,
          1.08988,
          1.08995,
          1.08988,
          1.08999,
          1.08988,
          1.08973,
          1.08963,
          1.08966,
          1.08978,
          1.08992,
          1.08989,
          1.09017,
          1.09023,
          1.09003,
          1.08992,
          1.08989,
          1.08998,
          1.09005,
          1.08989,
          1.08994,
          1.08979,
          1.08966,
          1.08966,
          1.08965,
          1.08954,
          1.08908,
          1.08898,
          1.08878,
          1.08877,
          1.08885,
          1.08913,
          1.08939,
          1.08962,
          1.08963,
          1.08948,
          1.08948,
          1.08944,
          1.08939,
          1.08944,
          1.08933,
          1.08949,
          1.08919,
          1.08926,
          1.08923,
          1.08938,
          1.08932,
          1.08928,
          1.08937,
          1.08961,
          1.0899,
          1.08963,
          1.08966,
          1.08952,
          1.08933,
          1.08949,
          1.08939,
          1.08916,
          1.08934,
          1.08947,
          1.08968,
          1.08947,
          1.08959,
          1.08978,
          1.08975,
          1.08979,
          1.08972,
          1.08951,
          1.08932,
          1.08938,
          1.08943,
          1.08967,
          1.08968,
          1.08958,
          1.08968,
          1.08982,
          1.08978,
          1.08974,
          1.08969,
          1.08951,
          1.08931,
          1.08924,
          1.08931,
          1.08948,
          1.08945,
          1.08952,
          1.08972,
          1.08981,
          1.08991,
          1.0897,
          1.08959,
          1.08979,
          1.08978,
          1.09003,
          1.09,
          1.0902,
          1.09024,
          1.09023,
          1.09033,
          1.09045,
          1.09026,
          1.08989,
          1.08998,
          1.0901,
          1.09011,
          1.09022,
          1.09019,
          1.09033,
          1.09024,
          1.08998,
          1.09006,
          1.08997,
          1.08981,
          1.08974,
          1.08979
         ],
         "high": [
          1.0909,
          1.09088,
          1.09084,
          1.0909,
          1.09086,
          1.0908,
          1.09073,
          1.09071,
          1.09065,
          1.09059,
          1.0906,
          1.0906,
          1.09066,
          1.09069,
          1.09081,
          1.09093,
          1.09096,
          1.09098,
          1.09101,
          1.09113,
          1.09107,
          1.09089,
          1.0908,
          1.0909,
          1.09089,
          1.09091,
          1.09084,
          1.09085,
          1.09085,
          1.09085,
          1.09079,
          1.09076,
          1.0906,
          1.09067,
          1.09064,
          1.09068,
          1.0909,
          1.09105,
          1.091,
          1.09096,
          1.09099,
          1.09097,
          1.09093,
          1.091,
          1.09099,
          1.09105,
          1.091,
          1.09104,
          1.09121,
          1.09117,
          1.091,
          1.09064,
          1.09044,
          1.09038,
          1.09016,
          1.08995,
          1.09012,
          1.09032,
          1.08964,
          1.0897,
          1.08972,
          1.09,
          1.08975,
          1.08982,
          1.08991,
          1.08989,
          1.09004,
          1.08999,
          1.08999,
          1.08996,
          1.0899,
          1.08974,
          1.08969,
          1.08983,
          1.09002,
          1.08999,
          1.09018,
          1.09029,
          1.09023,
          1.09008,
          1.08997,
          1.09004,
          1.09005,
          1.09005,
          1.09004,
          1.08999,
          1.08989,
          1.08986,
          1.08977,
          1.08969,
          1.08956,
          1.08923,
          1.08898,
          1.08887,
          1.08895,
          1.08922,
          1.08943,
          1.08964,
          1.08969,
          1.08962,
          1.08949,
          1.08956,
          1.08951,
          1.08945,
          1.08939,
          1.08965,
          1.08944,
          1.08928,
          1.08936,
          1.08949,
          1.08939,
          1.08947,
          1.08939,
          1.08963,
          1.0899,
          1.08998,
          1.08974,
          1.08968,
          1.08956,
          1.08959,
          1.08953,
          1.08946,
          1.08945,
          1.0896,
          1.08976,
          1.08974,
          1.08967,
          1.08978,
          1.08993,
          1.08984,
          1.08986,
          1.08972,
          1.08953,
          1.0894,
          1.08946,
          1.08968,
          1.08969,
          1.08968,
          1.08974,
          1.08982,
          1.09004,
          1.0898,
          1.08984,
          1.08969,
          1.08953,
          1.08936,
          1.0894,
          1.08954,
          1.08948,
          1.08968,
          1.08974,
          1.08998,
          1.09004,
          1.08989,
          1.08991,
          1.08988,
          1.08984,
          1.09003,
          1.09014,
          1.09023,
          1.09024,
          1.09024,
          1.09033,
          1.09045,
          1.09045,
          1.09025,
          1.09005,
          1.0902,
          1.09022,
          1.09027,
          1.09033,
          1.09033,
          1.09032,
          1.09025,
          1.09008,
          1.09009,
          1.08997,
          1.0898,
          1.0898
         ],
         "low": [
          1.09075,
          1.09069,
          1.09064,
          1.09078,
          1.09075,
          1.09063,
          1.09064,
          1.09045,
          1.0905,
          1.09049,
          1.0905,
          1.09054,
          1.09059,
          1.09063,
          1.09065,
          1.09079,
          1.09084,
          1.09081,
          1.09082,
          1.09094,
          1.09086,
          1.09073,
          1.0907,
          1.09071,
          1.09076,
          1.09083,
          1.09077,
          1.09078,
          1.09074,
          1.09076,
          1.09075,
          1.09053,
          1.09054,
          1.09056,
          1.09059,
          1.09051,
          1.09066,
          1.09085,
          1.09081,
          1.09084,
          1.09085,
          1.09088,
          1.09085,
          1.09086,
          1.09091,
          1.0909,
          1.09082,
          1.09094,
          1.09104,
          1.09097,
          1.09062,
          1.09017,
          1.09028,
          1.09002,
          1.08989,
          1.08983,
          1.08955,
          1.08961,
          1.08945,
          1.08946,
          1.08928,
          1.0895,
          1.08938,
          1.08945,
          1.08969,
          1.08973,
          1.08979,
          1.08978,
          1.08982,
          1.08982,
          1.08968,
          1.08952,
          1.08947,
          1.08961,
          1.08973,
          1.08973,
          1.08987,
          1.09016,
          1.08996,
          1.08992,
          1.08988,
          1.08982,
          1.08989,
          1.08987,
          1.08982,
          1.08962,
          1.08964,
          1.08964,
          1.08964,
          1.08944,
          1.08908,
          1.08898,
          1.0886,
          1.08877,
          1.08874,
          1.08884,
          1.08903,
          1.08938,
          1.08955,
          1.0894,
          1.08935,
          1.08935,
          1.0893,
          1.08928,
          1.08922,
          1.08934,
          1.08916,
          1.08916,
          1.08918,
          1.08925,
          1.0891,
          1.08914,
          1.08923,
          1.08938,
          1.08963,
          1.08961,
          1.08962,
          1.08948,
          1.08932,
          1.08898,
          1.08922,
          1.08914,
          1.08908,
          1.08929,
          1.08946,
          1.08937,
          1.08948,
          1.08955,
          1.08971,
          1.08976,
          1.08972,
          1.08948,
          1.08932,
          1.08928,
          1.08934,
          1.08938,
          1.08954,
          1.08952,
          1.08949,
          1.08967,
          1.08977,
          1.08967,
          1.08968,
          1.08949,
          1.08931,
          1.08924,
          1.08925,
          1.08929,
          1.08924,
          1.08943,
          1.08954,
          1.08972,
          1.08979,
          1.08968,
          1.08955,
          1.08958,
          1.08969,
          1.08972,
          1.08999,
          1.08996,
          1.09004,
          1.09018,
          1.09017,
          1.0903,
          1.09014,
          1.08989,
          1.08987,
          1.08997,
          1.09008,
          1.09012,
          1.09009,
          1.09009,
          1.09015,
          1.08998,
          1.0899,
          1.08987,
          1.08979,
          1.08966,
          1.0897
         ],
         "open": [
          1.0909,
          1.09082,
          1.09064,
          1.09079,
          1.09079,
          1.09079,
          1.09068,
          1.09069,
          1.09053,
          1.09058,
          1.0905,
          1.09055,
          1.09059,
          1.09066,
          1.09065,
          1.09079,
          1.0909,
          1.09098,
          1.09082,
          1.09095,
          1.09105,
          1.09088,
          1.09072,
          1.09074,
          1.09087,
          1.09084,
          1.09084,
          1.09084,
          1.09085,
          1.09085,
          1.09078,
          1.09076,
          1.09055,
          1.0906,
          1.09059,
          1.09058,
          1.09066,
          1.09091,
          1.091,
          1.09084,
          1.09089,
          1.09097,
          1.0909,
          1.09089,
          1.09094,
          1.091,
          1.09089,
          1.09097,
          1.09106,
          1.09117,
          1.09099,
          1.09064,
          1.09035,
          1.09037,
          1.09009,
          1.08986,
          1.08997,
          1.08961,
          1.08962,
          1.08949,
          1.0895,
          1.0897,
          1.08954,
          1.08945,
          1.08978,
          1.08982,
          1.08989,
          1.08996,
          1.08989,
          1.08995,
          1.0899,
          1.08974,
          1.08958,
          1.08966,
          1.08978,
          1.08991,
          1.08987,
          1.09017,
          1.09023,
          1.09002,
          1.08988,
          1.08987,
          1.08993,
          1.09003,
          1.08988,
          1.08995,
          1.0898,
          1.0897,
          1.08968,
          1.08964,
          1.08956,
          1.08909,
          1.08898,
          1.08883,
          1.08879,
          1.08884,
          1.08914,
          1.08938,
          1.08964,
          1.08959,
          1.08949,
          1.08949,
          1.08946,
          1.08938,
          1.08939,
          1.08935,
          1.08944,
          1.08918,
          1.08924,
          1.08925,
          1.08933,
          1.08933,
          1.08929,
          1.08938,
          1.08963,
          1.0899,
          1.08964,
          1.08967,
          1.08952,
          1.08928,
          1.0895,
          1.08938,
          1.08915,
          1.08933,
          1.08946,
          1.08968,
          1.08948,
          1.08959,
          1.08979,
          1.08978,
          1.08979,
          1.08972,
          1.08953,
          1.08933,
          1.08934,
          1.08943,
          1.08964,
          1.08967,
          1.08957,
          1.08968,
          1.08986,
          1.08979,
          1.08973,
          1.08967,
          1.08952,
          1.08933,
          1.08925,
          1.08931,
          1.08947,
          1.08944,
          1.08954,
          1.08972,
          1.08979,
          1.08988,
          1.08974,
          1.08958,
          1.08979,
          1.08979,
          1.09007,
          1.09001,
          1.09022,
          1.09023,
          1.09022,
          1.09033,
          1.09044,
          1.09025,
          1.08987,
          1.08999,
          1.09014,
          1.09012,
          1.09027,
          1.09021,
          1.09031,
          1.09025,
          1.08999,
          1.09008,
          1.08996,
          1.0898,
          1.08971
         ],
         "type": "candlestick",
         "x": [
          "2023-12-01T09:01:00",
          "2023-12-01T09:02:00",
          "2023-12-01T09:03:00",
          "2023-12-01T09:04:00",
          "2023-12-01T09:05:00",
          "2023-12-01T09:06:00",
          "2023-12-01T09:07:00",
          "2023-12-01T09:08:00",
          "2023-12-01T09:09:00",
          "2023-12-01T09:10:00",
          "2023-12-01T09:11:00",
          "2023-12-01T09:12:00",
          "2023-12-01T09:13:00",
          "2023-12-01T09:14:00",
          "2023-12-01T09:15:00",
          "2023-12-01T09:16:00",
          "2023-12-01T09:17:00",
          "2023-12-01T09:18:00",
          "2023-12-01T09:19:00",
          "2023-12-01T09:20:00",
          "2023-12-01T09:21:00",
          "2023-12-01T09:22:00",
          "2023-12-01T09:23:00",
          "2023-12-01T09:24:00",
          "2023-12-01T09:25:00",
          "2023-12-01T09:26:00",
          "2023-12-01T09:27:00",
          "2023-12-01T09:28:00",
          "2023-12-01T09:29:00",
          "2023-12-01T09:30:00",
          "2023-12-01T09:31:00",
          "2023-12-01T09:32:00",
          "2023-12-01T09:33:00",
          "2023-12-01T09:34:00",
          "2023-12-01T09:35:00",
          "2023-12-01T09:36:00",
          "2023-12-01T09:37:00",
          "2023-12-01T09:38:00",
          "2023-12-01T09:39:00",
          "2023-12-01T09:40:00",
          "2023-12-01T09:41:00",
          "2023-12-01T09:42:00",
          "2023-12-01T09:43:00",
          "2023-12-01T09:44:00",
          "2023-12-01T09:45:00",
          "2023-12-01T09:46:00",
          "2023-12-01T09:47:00",
          "2023-12-01T09:48:00",
          "2023-12-01T09:49:00",
          "2023-12-01T09:50:00",
          "2023-12-01T09:51:00",
          "2023-12-01T09:52:00",
          "2023-12-01T09:53:00",
          "2023-12-01T09:54:00",
          "2023-12-01T09:55:00",
          "2023-12-01T09:56:00",
          "2023-12-01T09:57:00",
          "2023-12-01T09:58:00",
          "2023-12-01T09:59:00",
          "2023-12-01T10:00:00",
          "2023-12-01T10:01:00",
          "2023-12-01T10:02:00",
          "2023-12-01T10:03:00",
          "2023-12-01T10:04:00",
          "2023-12-01T10:05:00",
          "2023-12-01T10:06:00",
          "2023-12-01T10:07:00",
          "2023-12-01T10:08:00",
          "2023-12-01T10:09:00",
          "2023-12-01T10:10:00",
          "2023-12-01T10:11:00",
          "2023-12-01T10:12:00",
          "2023-12-01T10:13:00",
          "2023-12-01T10:14:00",
          "2023-12-01T10:15:00",
          "2023-12-01T10:16:00",
          "2023-12-01T10:17:00",
          "2023-12-01T10:18:00",
          "2023-12-01T10:19:00",
          "2023-12-01T10:20:00",
          "2023-12-01T10:21:00",
          "2023-12-01T10:22:00",
          "2023-12-01T10:23:00",
          "2023-12-01T10:24:00",
          "2023-12-01T10:25:00",
          "2023-12-01T10:26:00",
          "2023-12-01T10:27:00",
          "2023-12-01T10:28:00",
          "2023-12-01T10:29:00",
          "2023-12-01T10:30:00",
          "2023-12-01T10:31:00",
          "2023-12-01T10:32:00",
          "2023-12-01T10:33:00",
          "2023-12-01T10:34:00",
          "2023-12-01T10:35:00",
          "2023-12-01T10:36:00",
          "2023-12-01T10:37:00",
          "2023-12-01T10:38:00",
          "2023-12-01T10:39:00",
          "2023-12-01T10:40:00",
          "2023-12-01T10:41:00",
          "2023-12-01T10:42:00",
          "2023-12-01T10:43:00",
          "2023-12-01T10:44:00",
          "2023-12-01T10:45:00",
          "2023-12-01T10:46:00",
          "2023-12-01T10:47:00",
          "2023-12-01T10:48:00",
          "2023-12-01T10:49:00",
          "2023-12-01T10:50:00",
          "2023-12-01T10:51:00",
          "2023-12-01T10:52:00",
          "2023-12-01T10:53:00",
          "2023-12-01T10:54:00",
          "2023-12-01T10:55:00",
          "2023-12-01T10:56:00",
          "2023-12-01T10:57:00",
          "2023-12-01T10:58:00",
          "2023-12-01T10:59:00",
          "2023-12-01T11:00:00",
          "2023-12-01T11:01:00",
          "2023-12-01T11:02:00",
          "2023-12-01T11:03:00",
          "2023-12-01T11:04:00",
          "2023-12-01T11:05:00",
          "2023-12-01T11:06:00",
          "2023-12-01T11:07:00",
          "2023-12-01T11:08:00",
          "2023-12-01T11:09:00",
          "2023-12-01T11:10:00",
          "2023-12-01T11:11:00",
          "2023-12-01T11:12:00",
          "2023-12-01T11:13:00",
          "2023-12-01T11:14:00",
          "2023-12-01T11:15:00",
          "2023-12-01T11:16:00",
          "2023-12-01T11:17:00",
          "2023-12-01T11:18:00",
          "2023-12-01T11:19:00",
          "2023-12-01T11:20:00",
          "2023-12-01T11:21:00",
          "2023-12-01T11:22:00",
          "2023-12-01T11:23:00",
          "2023-12-01T11:24:00",
          "2023-12-01T11:25:00",
          "2023-12-01T11:26:00",
          "2023-12-01T11:27:00",
          "2023-12-01T11:28:00",
          "2023-12-01T11:29:00",
          "2023-12-01T11:30:00",
          "2023-12-01T11:31:00",
          "2023-12-01T11:32:00",
          "2023-12-01T11:33:00",
          "2023-12-01T11:34:00",
          "2023-12-01T11:35:00",
          "2023-12-01T11:36:00",
          "2023-12-01T11:37:00",
          "2023-12-01T11:38:00",
          "2023-12-01T11:39:00",
          "2023-12-01T11:40:00",
          "2023-12-01T11:41:00",
          "2023-12-01T11:42:00",
          "2023-12-01T11:43:00",
          "2023-12-01T11:44:00",
          "2023-12-01T11:45:00",
          "2023-12-01T11:46:00",
          "2023-12-01T11:47:00",
          "2023-12-01T11:48:00",
          "2023-12-01T11:49:00",
          "2023-12-01T11:50:00",
          "2023-12-01T11:51:00",
          "2023-12-01T11:52:00",
          "2023-12-01T11:53:00",
          "2023-12-01T11:54:00",
          "2023-12-01T11:55:00",
          "2023-12-01T11:56:00",
          "2023-12-01T11:57:00",
          "2023-12-01T11:58:00",
          "2023-12-01T11:59:00"
         ]
        },
        {
         "fill": "toself",
         "type": "scatter",
         "x": [
          "2023-12-01T09:03:00",
          "2023-12-01T09:03:00",
          "2023-12-01T09:14:00",
          "2023-12-01T09:14:00",
          "2023-12-01T09:03:00"
         ],
         "y": [
          1.09084,
          1.09075,
          1.09075,
          1.09084,
          1.09084
         ]
        },
        {
         "fill": "toself",
         "type": "scatter",
         "x": [
          "2023-12-01T09:53:00",
          "2023-12-01T09:53:00",
          "2023-12-01T10:04:00",
          "2023-12-01T10:04:00",
          "2023-12-01T09:53:00"
         ],
         "y": [
          1.09044,
          1.08989,
          1.08989,
          1.09044,
          1.09044
         ]
        },
        {
         "fill": "toself",
         "type": "scatter",
         "x": [
          "2023-12-01T09:54:00",
          "2023-12-01T09:54:00",
          "2023-12-01T10:05:00",
          "2023-12-01T10:05:00",
          "2023-12-01T09:54:00"
         ],
         "y": [
          1.09038,
          1.08983,
          1.08983,
          1.09038,
          1.09038
         ]
        },
        {
         "fill": "toself",
         "type": "scatter",
         "x": [
          "2023-12-01T09:58:00",
          "2023-12-01T09:58:00",
          "2023-12-01T10:09:00",
          "2023-12-01T10:09:00",
          "2023-12-01T09:58:00"
         ],
         "y": [
          1.09032,
          1.08946,
          1.08946,
          1.09032,
          1.09032
         ]
        },
        {
         "fill": "toself",
         "type": "scatter",
         "x": [
          "2023-12-01T10:03:00",
          "2023-12-01T10:03:00",
          "2023-12-01T10:14:00",
          "2023-12-01T10:14:00",
          "2023-12-01T10:03:00"
         ],
         "y": [
          1.08975,
          1.08969,
          1.08969,
          1.08975,
          1.08975
         ]
        },
        {
         "fill": "toself",
         "type": "scatter",
         "x": [
          "2023-12-01T10:20:00",
          "2023-12-01T10:20:00",
          "2023-12-01T10:31:00",
          "2023-12-01T10:31:00",
          "2023-12-01T10:20:00"
         ],
         "y": [
          1.09008,
          1.08982,
          1.08982,
          1.09008,
          1.09008
         ]
        },
        {
         "fill": "toself",
         "type": "scatter",
         "x": [
          "2023-12-01T10:25:00",
          "2023-12-01T10:25:00",
          "2023-12-01T10:36:00",
          "2023-12-01T10:36:00",
          "2023-12-01T10:25:00"
         ],
         "y": [
          1.09004,
          1.08964,
          1.08964,
          1.09004,
          1.09004
         ]
        },
        {
         "fill": "toself",
         "type": "scatter",
         "x": [
          "2023-12-01T10:26:00",
          "2023-12-01T10:26:00",
          "2023-12-01T10:37:00",
          "2023-12-01T10:37:00",
          "2023-12-01T10:26:00"
         ],
         "y": [
          1.08999,
          1.08964,
          1.08964,
          1.08999,
          1.08999
         ]
        },
        {
         "fill": "toself",
         "type": "scatter",
         "x": [
          "2023-12-01T10:37:00",
          "2023-12-01T10:37:00",
          "2023-12-01T10:48:00",
          "2023-12-01T10:48:00",
          "2023-12-01T10:37:00"
         ],
         "y": [
          1.08943,
          1.08955,
          1.08955,
          1.08943,
          1.08943
         ]
        },
        {
         "fill": "toself",
         "type": "scatter",
         "x": [
          "2023-12-01T10:38:00",
          "2023-12-01T10:38:00",
          "2023-12-01T10:49:00",
          "2023-12-01T10:49:00",
          "2023-12-01T10:38:00"
         ],
         "y": [
          1.08964,
          1.0894,
          1.0894,
          1.08964,
          1.08964
         ]
        },
        {
         "fill": "toself",
         "type": "scatter",
         "x": [
          "2023-12-01T10:52:00",
          "2023-12-01T10:52:00",
          "2023-12-01T11:03:00",
          "2023-12-01T11:03:00",
          "2023-12-01T10:52:00"
         ],
         "y": [
          1.08947,
          1.08938,
          1.08938,
          1.08947,
          1.08947
         ]
        },
        {
         "fill": "toself",
         "type": "scatter",
         "x": [
          "2023-12-01T11:00:00",
          "2023-12-01T11:00:00",
          "2023-12-01T11:11:00",
          "2023-12-01T11:11:00",
          "2023-12-01T11:00:00"
         ],
         "y": [
          1.08959,
          1.08914,
          1.08914,
          1.08959,
          1.08959
         ]
        },
        {
         "fill": "toself",
         "type": "scatter",
         "x": [
          "2023-12-01T11:01:00",
          "2023-12-01T11:01:00",
          "2023-12-01T11:12:00",
          "2023-12-01T11:12:00",
          "2023-12-01T11:01:00"
         ],
         "y": [
          1.08953,
          1.08908,
          1.08908,
          1.08953,
          1.08953
         ]
        },
        {
         "fill": "toself",
         "type": "scatter",
         "x": [
          "2023-12-01T11:02:00",
          "2023-12-01T11:02:00",
          "2023-12-01T11:13:00",
          "2023-12-01T11:13:00",
          "2023-12-01T11:02:00"
         ],
         "y": [
          1.08946,
          1.08929,
          1.08929,
          1.08946,
          1.08946
         ]
        },
        {
         "fill": "toself",
         "type": "scatter",
         "x": [
          "2023-12-01T11:04:00",
          "2023-12-01T11:04:00",
          "2023-12-01T11:15:00",
          "2023-12-01T11:15:00",
          "2023-12-01T11:04:00"
         ],
         "y": [
          1.0896,
          1.08937,
          1.08937,
          1.0896,
          1.0896
         ]
        },
        {
         "fill": "toself",
         "type": "scatter",
         "x": [
          "2023-12-01T11:05:00",
          "2023-12-01T11:05:00",
          "2023-12-01T11:16:00",
          "2023-12-01T11:16:00",
          "2023-12-01T11:05:00"
         ],
         "y": [
          1.08976,
          1.08948,
          1.08948,
          1.08976,
          1.08976
         ]
        },
        {
         "fill": "toself",
         "type": "scatter",
         "x": [
          "2023-12-01T11:09:00",
          "2023-12-01T11:09:00",
          "2023-12-01T11:20:00",
          "2023-12-01T11:20:00",
          "2023-12-01T11:09:00"
         ],
         "y": [
          1.08993,
          1.08972,
          1.08972,
          1.08993,
          1.08993
         ]
        },
        {
         "fill": "toself",
         "type": "scatter",
         "x": [
          "2023-12-01T11:10:00",
          "2023-12-01T11:10:00",
          "2023-12-01T11:21:00",
          "2023-12-01T11:21:00",
          "2023-12-01T11:10:00"
         ],
         "y": [
          1.08984,
          1.08948,
          1.08948,
          1.08984,
          1.08984
         ]
        },
        {
         "fill": "toself",
         "type": "scatter",
         "x": [
          "2023-12-01T11:23:00",
          "2023-12-01T11:23:00",
          "2023-12-01T11:34:00",
          "2023-12-01T11:34:00",
          "2023-12-01T11:23:00"
         ],
         "y": [
          1.08984,
          1.08931,
          1.08931,
          1.08984,
          1.08984
         ]
        },
        {
         "fill": "toself",
         "type": "scatter",
         "x": [
          "2023-12-01T11:24:00",
          "2023-12-01T11:24:00",
          "2023-12-01T11:35:00",
          "2023-12-01T11:35:00",
          "2023-12-01T11:24:00"
         ],
         "y": [
          1.08969,
          1.08924,
          1.08924,
          1.08969,
          1.08969
         ]
        },
        {
         "fill": "toself",
         "type": "scatter",
         "x": [
          "2023-12-01T11:25:00",
          "2023-12-01T11:25:00",
          "2023-12-01T11:36:00",
          "2023-12-01T11:36:00",
          "2023-12-01T11:25:00"
         ],
         "y": [
          1.08953,
          1.08925,
          1.08925,
          1.08953,
          1.08953
         ]
        },
        {
         "fill": "toself",
         "type": "scatter",
         "x": [
          "2023-12-01T11:32:00",
          "2023-12-01T11:32:00",
          "2023-12-01T11:43:00",
          "2023-12-01T11:43:00",
          "2023-12-01T11:32:00"
         ],
         "y": [
          1.08998,
          1.08968,
          1.08968,
          1.08998,
          1.08998
         ]
        },
        {
         "fill": "toself",
         "type": "scatter",
         "x": [
          "2023-12-01T11:33:00",
          "2023-12-01T11:33:00",
          "2023-12-01T11:44:00",
          "2023-12-01T11:44:00",
          "2023-12-01T11:33:00"
         ],
         "y": [
          1.09004,
          1.08955,
          1.08955,
          1.09004,
          1.09004
         ]
        },
        {
         "fill": "toself",
         "type": "scatter",
         "x": [
          "2023-12-01T11:41:00",
          "2023-12-01T11:41:00",
          "2023-12-01T11:52:00",
          "2023-12-01T11:52:00",
          "2023-12-01T11:41:00"
         ],
         "y": [
          1.09024,
          1.09017,
          1.09017,
          1.09024,
          1.09024
         ]
        },
        {
         "fill": "toself",
         "type": "scatter",
         "x": [
          "2023-12-01T11:44:00",
          "2023-12-01T11:44:00",
          "2023-12-01T11:55:00",
          "2023-12-01T11:55:00",
          "2023-12-01T11:44:00"
         ],
         "y": [
          1.09045,
          1.08989,
          1.08989,
          1.09045,
          1.09045
         ]
        },
        {
         "fill": "toself",
         "type": "scatter",
         "x": [
          "2023-12-01T11:51:00",
          "2023-12-01T11:51:00",
          "2023-12-01T11:59:00",
          "2023-12-01T11:59:00",
          "2023-12-01T11:51:00"
         ],
         "y": [
          1.09033,
          1.09015,
          1.09015,
          1.09033,
          1.09033
         ]
        },
        {
         "fill": "toself",
         "type": "scatter",
         "x": [
          "2023-12-01T11:53:00",
          "2023-12-01T11:53:00",
          "2023-12-01T11:59:00",
          "2023-12-01T11:59:00",
          "2023-12-01T11:53:00"
         ],
         "y": [
          1.09032,
          1.0899,
          1.0899,
          1.09032,
          1.09032
         ]
        }
       ],
       "layout": {
        "template": {
         "data": {
          "bar": [
           {
            "error_x": {
             "color": "#2a3f5f"
            },
            "error_y": {
             "color": "#2a3f5f"
            },
            "marker": {
             "line": {
              "color": "#E5ECF6",
              "width": 0.5
             },
             "pattern": {
              "fillmode": "overlay",
              "size": 10,
              "solidity": 0.2
             }
            },
            "type": "bar"
           }
          ],
          "barpolar": [
           {
            "marker": {
             "line": {
              "color": "#E5ECF6",
              "width": 0.5
             },
             "pattern": {
              "fillmode": "overlay",
              "size": 10,
              "solidity": 0.2
             }
            },
            "type": "barpolar"
           }
          ],
          "carpet": [
           {
            "aaxis": {
             "endlinecolor": "#2a3f5f",
             "gridcolor": "white",
             "linecolor": "white",
             "minorgridcolor": "white",
             "startlinecolor": "#2a3f5f"
            },
            "baxis": {
             "endlinecolor": "#2a3f5f",
             "gridcolor": "white",
             "linecolor": "white",
             "minorgridcolor": "white",
             "startlinecolor": "#2a3f5f"
            },
            "type": "carpet"
           }
          ],
          "choropleth": [
           {
            "colorbar": {
             "outlinewidth": 0,
             "ticks": ""
            },
            "type": "choropleth"
           }
          ],
          "contour": [
           {
            "colorbar": {
             "outlinewidth": 0,
             "ticks": ""
            },
            "colorscale": [
             [
              0,
              "#0d0887"
             ],
             [
              0.1111111111111111,
              "#46039f"
             ],
             [
              0.2222222222222222,
              "#7201a8"
             ],
             [
              0.3333333333333333,
              "#9c179e"
             ],
             [
              0.4444444444444444,
              "#bd3786"
             ],
             [
              0.5555555555555556,
              "#d8576b"
             ],
             [
              0.6666666666666666,
              "#ed7953"
             ],
             [
              0.7777777777777778,
              "#fb9f3a"
             ],
             [
              0.8888888888888888,
              "#fdca26"
             ],
             [
              1,
              "#f0f921"
             ]
            ],
            "type": "contour"
           }
          ],
          "contourcarpet": [
           {
            "colorbar": {
             "outlinewidth": 0,
             "ticks": ""
            },
            "type": "contourcarpet"
           }
          ],
          "heatmap": [
           {
            "colorbar": {
             "outlinewidth": 0,
             "ticks": ""
            },
            "colorscale": [
             [
              0,
              "#0d0887"
             ],
             [
              0.1111111111111111,
              "#46039f"
             ],
             [
              0.2222222222222222,
              "#7201a8"
             ],
             [
              0.3333333333333333,
              "#9c179e"
             ],
             [
              0.4444444444444444,
              "#bd3786"
             ],
             [
              0.5555555555555556,
              "#d8576b"
             ],
             [
              0.6666666666666666,
              "#ed7953"
             ],
             [
              0.7777777777777778,
              "#fb9f3a"
             ],
             [
              0.8888888888888888,
              "#fdca26"
             ],
             [
              1,
              "#f0f921"
             ]
            ],
            "type": "heatmap"
           }
          ],
          "heatmapgl": [
           {
            "colorbar": {
             "outlinewidth": 0,
             "ticks": ""
            },
            "colorscale": [
             [
              0,
              "#0d0887"
             ],
             [
              0.1111111111111111,
              "#46039f"
             ],
             [
              0.2222222222222222,
              "#7201a8"
             ],
             [
              0.3333333333333333,
              "#9c179e"
             ],
             [
              0.4444444444444444,
              "#bd3786"
             ],
             [
              0.5555555555555556,
              "#d8576b"
             ],
             [
              0.6666666666666666,
              "#ed7953"
             ],
             [
              0.7777777777777778,
              "#fb9f3a"
             ],
             [
              0.8888888888888888,
              "#fdca26"
             ],
             [
              1,
              "#f0f921"
             ]
            ],
            "type": "heatmapgl"
           }
          ],
          "histogram": [
           {
            "marker": {
             "pattern": {
              "fillmode": "overlay",
              "size": 10,
              "solidity": 0.2
             }
            },
            "type": "histogram"
           }
          ],
          "histogram2d": [
           {
            "colorbar": {
             "outlinewidth": 0,
             "ticks": ""
            },
            "colorscale": [
             [
              0,
              "#0d0887"
             ],
             [
              0.1111111111111111,
              "#46039f"
             ],
             [
              0.2222222222222222,
              "#7201a8"
             ],
             [
              0.3333333333333333,
              "#9c179e"
             ],
             [
              0.4444444444444444,
              "#bd3786"
             ],
             [
              0.5555555555555556,
              "#d8576b"
             ],
             [
              0.6666666666666666,
              "#ed7953"
             ],
             [
              0.7777777777777778,
              "#fb9f3a"
             ],
             [
              0.8888888888888888,
              "#fdca26"
             ],
             [
              1,
              "#f0f921"
             ]
            ],
            "type": "histogram2d"
           }
          ],
          "histogram2dcontour": [
           {
            "colorbar": {
             "outlinewidth": 0,
             "ticks": ""
            },
            "colorscale": [
             [
              0,
              "#0d0887"
             ],
             [
              0.1111111111111111,
              "#46039f"
             ],
             [
              0.2222222222222222,
              "#7201a8"
             ],
             [
              0.3333333333333333,
              "#9c179e"
             ],
             [
              0.4444444444444444,
              "#bd3786"
             ],
             [
              0.5555555555555556,
              "#d8576b"
             ],
             [
              0.6666666666666666,
              "#ed7953"
             ],
             [
              0.7777777777777778,
              "#fb9f3a"
             ],
             [
              0.8888888888888888,
              "#fdca26"
             ],
             [
              1,
              "#f0f921"
             ]
            ],
            "type": "histogram2dcontour"
           }
          ],
          "mesh3d": [
           {
            "colorbar": {
             "outlinewidth": 0,
             "ticks": ""
            },
            "type": "mesh3d"
           }
          ],
          "parcoords": [
           {
            "line": {
             "colorbar": {
              "outlinewidth": 0,
              "ticks": ""
             }
            },
            "type": "parcoords"
           }
          ],
          "pie": [
           {
            "automargin": true,
            "type": "pie"
           }
          ],
          "scatter": [
           {
            "fillpattern": {
             "fillmode": "overlay",
             "size": 10,
             "solidity": 0.2
            },
            "type": "scatter"
           }
          ],
          "scatter3d": [
           {
            "line": {
             "colorbar": {
              "outlinewidth": 0,
              "ticks": ""
             }
            },
            "marker": {
             "colorbar": {
              "outlinewidth": 0,
              "ticks": ""
             }
            },
            "type": "scatter3d"
           }
          ],
          "scattercarpet": [
           {
            "marker": {
             "colorbar": {
              "outlinewidth": 0,
              "ticks": ""
             }
            },
            "type": "scattercarpet"
           }
          ],
          "scattergeo": [
           {
            "marker": {
             "colorbar": {
              "outlinewidth": 0,
              "ticks": ""
             }
            },
            "type": "scattergeo"
           }
          ],
          "scattergl": [
           {
            "marker": {
             "colorbar": {
              "outlinewidth": 0,
              "ticks": ""
             }
            },
            "type": "scattergl"
           }
          ],
          "scattermapbox": [
           {
            "marker": {
             "colorbar": {
              "outlinewidth": 0,
              "ticks": ""
             }
            },
            "type": "scattermapbox"
           }
          ],
          "scatterpolar": [
           {
            "marker": {
             "colorbar": {
              "outlinewidth": 0,
              "ticks": ""
             }
            },
            "type": "scatterpolar"
           }
          ],
          "scatterpolargl": [
           {
            "marker": {
             "colorbar": {
              "outlinewidth": 0,
              "ticks": ""
             }
            },
            "type": "scatterpolargl"
           }
          ],
          "scatterternary": [
           {
            "marker": {
             "colorbar": {
              "outlinewidth": 0,
              "ticks": ""
             }
            },
            "type": "scatterternary"
           }
          ],
          "surface": [
           {
            "colorbar": {
             "outlinewidth": 0,
             "ticks": ""
            },
            "colorscale": [
             [
              0,
              "#0d0887"
             ],
             [
              0.1111111111111111,
              "#46039f"
             ],
             [
              0.2222222222222222,
              "#7201a8"
             ],
             [
              0.3333333333333333,
              "#9c179e"
             ],
             [
              0.4444444444444444,
              "#bd3786"
             ],
             [
              0.5555555555555556,
              "#d8576b"
             ],
             [
              0.6666666666666666,
              "#ed7953"
             ],
             [
              0.7777777777777778,
              "#fb9f3a"
             ],
             [
              0.8888888888888888,
              "#fdca26"
             ],
             [
              1,
              "#f0f921"
             ]
            ],
            "type": "surface"
           }
          ],
          "table": [
           {
            "cells": {
             "fill": {
              "color": "#EBF0F8"
             },
             "line": {
              "color": "white"
             }
            },
            "header": {
             "fill": {
              "color": "#C8D4E3"
             },
             "line": {
              "color": "white"
             }
            },
            "type": "table"
           }
          ]
         },
         "layout": {
          "annotationdefaults": {
           "arrowcolor": "#2a3f5f",
           "arrowhead": 0,
           "arrowwidth": 1
          },
          "autotypenumbers": "strict",
          "coloraxis": {
           "colorbar": {
            "outlinewidth": 0,
            "ticks": ""
           }
          },
          "colorscale": {
           "diverging": [
            [
             0,
             "#8e0152"
            ],
            [
             0.1,
             "#c51b7d"
            ],
            [
             0.2,
             "#de77ae"
            ],
            [
             0.3,
             "#f1b6da"
            ],
            [
             0.4,
             "#fde0ef"
            ],
            [
             0.5,
             "#f7f7f7"
            ],
            [
             0.6,
             "#e6f5d0"
            ],
            [
             0.7,
             "#b8e186"
            ],
            [
             0.8,
             "#7fbc41"
            ],
            [
             0.9,
             "#4d9221"
            ],
            [
             1,
             "#276419"
            ]
           ],
           "sequential": [
            [
             0,
             "#0d0887"
            ],
            [
             0.1111111111111111,
             "#46039f"
            ],
            [
             0.2222222222222222,
             "#7201a8"
            ],
            [
             0.3333333333333333,
             "#9c179e"
            ],
            [
             0.4444444444444444,
             "#bd3786"
            ],
            [
             0.5555555555555556,
             "#d8576b"
            ],
            [
             0.6666666666666666,
             "#ed7953"
            ],
            [
             0.7777777777777778,
             "#fb9f3a"
            ],
            [
             0.8888888888888888,
             "#fdca26"
            ],
            [
             1,
             "#f0f921"
            ]
           ],
           "sequentialminus": [
            [
             0,
             "#0d0887"
            ],
            [
             0.1111111111111111,
             "#46039f"
            ],
            [
             0.2222222222222222,
             "#7201a8"
            ],
            [
             0.3333333333333333,
             "#9c179e"
            ],
            [
             0.4444444444444444,
             "#bd3786"
            ],
            [
             0.5555555555555556,
             "#d8576b"
            ],
            [
             0.6666666666666666,
             "#ed7953"
            ],
            [
             0.7777777777777778,
             "#fb9f3a"
            ],
            [
             0.8888888888888888,
             "#fdca26"
            ],
            [
             1,
             "#f0f921"
            ]
           ]
          },
          "colorway": [
           "#636efa",
           "#EF553B",
           "#00cc96",
           "#ab63fa",
           "#FFA15A",
           "#19d3f3",
           "#FF6692",
           "#B6E880",
           "#FF97FF",
           "#FECB52"
          ],
          "font": {
           "color": "#2a3f5f"
          },
          "geo": {
           "bgcolor": "white",
           "lakecolor": "white",
           "landcolor": "#E5ECF6",
           "showlakes": true,
           "showland": true,
           "subunitcolor": "white"
          },
          "hoverlabel": {
           "align": "left"
          },
          "hovermode": "closest",
          "mapbox": {
           "style": "light"
          },
          "paper_bgcolor": "white",
          "plot_bgcolor": "#E5ECF6",
          "polar": {
           "angularaxis": {
            "gridcolor": "white",
            "linecolor": "white",
            "ticks": ""
           },
           "bgcolor": "#E5ECF6",
           "radialaxis": {
            "gridcolor": "white",
            "linecolor": "white",
            "ticks": ""
           }
          },
          "scene": {
           "xaxis": {
            "backgroundcolor": "#E5ECF6",
            "gridcolor": "white",
            "gridwidth": 2,
            "linecolor": "white",
            "showbackground": true,
            "ticks": "",
            "zerolinecolor": "white"
           },
           "yaxis": {
            "backgroundcolor": "#E5ECF6",
            "gridcolor": "white",
            "gridwidth": 2,
            "linecolor": "white",
            "showbackground": true,
            "ticks": "",
            "zerolinecolor": "white"
           },
           "zaxis": {
            "backgroundcolor": "#E5ECF6",
            "gridcolor": "white",
            "gridwidth": 2,
            "linecolor": "white",
            "showbackground": true,
            "ticks": "",
            "zerolinecolor": "white"
           }
          },
          "shapedefaults": {
           "line": {
            "color": "#2a3f5f"
           }
          },
          "ternary": {
           "aaxis": {
            "gridcolor": "white",
            "linecolor": "white",
            "ticks": ""
           },
           "baxis": {
            "gridcolor": "white",
            "linecolor": "white",
            "ticks": ""
           },
           "bgcolor": "#E5ECF6",
           "caxis": {
            "gridcolor": "white",
            "linecolor": "white",
            "ticks": ""
           }
          },
          "title": {
           "x": 0.05
          },
          "xaxis": {
           "automargin": true,
           "gridcolor": "white",
           "linecolor": "white",
           "ticks": "",
           "title": {
            "standoff": 15
           },
           "zerolinecolor": "white",
           "zerolinewidth": 2
          },
          "yaxis": {
           "automargin": true,
           "gridcolor": "white",
           "linecolor": "white",
           "ticks": "",
           "title": {
            "standoff": 15
           },
           "zerolinecolor": "white",
           "zerolinewidth": 2
          }
         }
        }
       }
      }
     },
     "metadata": {},
     "output_type": "display_data"
    }
   ],
   "source": [
    "m.plot(start=datetime(2023, 12, 1, 9, 0, 0), end=datetime(2023, 12, 1, 12, 0, 0), FVG = True)"
   ]
  },
  {
   "cell_type": "code",
   "execution_count": 14,
   "metadata": {},
   "outputs": [
    {
     "data": {
      "text/plain": [
       "{'bull': [802,\n",
       "  844,\n",
       "  845,\n",
       "  846,\n",
       "  988,\n",
       "  1023,\n",
       "  1097,\n",
       "  1098,\n",
       "  1133,\n",
       "  1134,\n",
       "  1400,\n",
       "  1401,\n",
       "  1670,\n",
       "  1673,\n",
       "  1697,\n",
       "  1698,\n",
       "  1828,\n",
       "  1900,\n",
       "  1901,\n",
       "  1935,\n",
       "  2046,\n",
       "  2151,\n",
       "  2248,\n",
       "  2332,\n",
       "  2632,\n",
       "  2715,\n",
       "  2729,\n",
       "  2826,\n",
       "  2827,\n",
       "  2828,\n",
       "  2968,\n",
       "  3400,\n",
       "  3517,\n",
       "  3533,\n",
       "  3577,\n",
       "  3652,\n",
       "  4027,\n",
       "  4028,\n",
       "  4029,\n",
       "  4255,\n",
       "  4256,\n",
       "  5254,\n",
       "  5329,\n",
       "  5330,\n",
       "  5331,\n",
       "  5689,\n",
       "  5917,\n",
       "  5918,\n",
       "  6266,\n",
       "  6267,\n",
       "  6268,\n",
       "  7246,\n",
       "  7480,\n",
       "  8143,\n",
       "  8237,\n",
       "  8547,\n",
       "  8675,\n",
       "  8704,\n",
       "  8780,\n",
       "  9176,\n",
       "  9177,\n",
       "  9258,\n",
       "  9259,\n",
       "  9366,\n",
       "  9529,\n",
       "  9791,\n",
       "  9792,\n",
       "  9908,\n",
       "  9931,\n",
       "  10122,\n",
       "  10184,\n",
       "  10185,\n",
       "  10391,\n",
       "  10695,\n",
       "  10780,\n",
       "  10793,\n",
       "  10851,\n",
       "  11010,\n",
       "  11054,\n",
       "  11404,\n",
       "  11927,\n",
       "  12006,\n",
       "  12007,\n",
       "  12127,\n",
       "  12170,\n",
       "  12171,\n",
       "  12222,\n",
       "  12223,\n",
       "  12324,\n",
       "  12797],\n",
       " 'bear': [75,\n",
       "  294,\n",
       "  13558,\n",
       "  13641,\n",
       "  13770,\n",
       "  13771,\n",
       "  13863,\n",
       "  13948,\n",
       "  14015,\n",
       "  14169,\n",
       "  14170,\n",
       "  14527,\n",
       "  14633,\n",
       "  14634,\n",
       "  14635,\n",
       "  14858,\n",
       "  14859,\n",
       "  15103,\n",
       "  15104,\n",
       "  15105,\n",
       "  15252,\n",
       "  15253,\n",
       "  15295,\n",
       "  15390,\n",
       "  15490]}"
      ]
     },
     "execution_count": 14,
     "metadata": {},
     "output_type": "execute_result"
    }
   ],
   "source": [
    "m.getMSSs()"
   ]
  }
 ],
 "metadata": {
  "kernelspec": {
   "display_name": "comments",
   "language": "python",
   "name": "python3"
  },
  "language_info": {
   "codemirror_mode": {
    "name": "ipython",
    "version": 3
   },
   "file_extension": ".py",
   "mimetype": "text/x-python",
   "name": "python",
   "nbconvert_exporter": "python",
   "pygments_lexer": "ipython3",
   "version": "3.11.4"
  }
 },
 "nbformat": 4,
 "nbformat_minor": 2
}
